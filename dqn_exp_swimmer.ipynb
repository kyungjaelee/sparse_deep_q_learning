{
 "cells": [
  {
   "cell_type": "code",
   "execution_count": 1,
   "metadata": {},
   "outputs": [],
   "source": [
    "import experiment\n",
    "import tensorflow as tf"
   ]
  },
  {
   "cell_type": "code",
   "execution_count": null,
   "metadata": {},
   "outputs": [
    {
     "name": "stderr",
     "output_type": "stream",
     "text": [
      "[2017-11-28 00:29:59,196] Making new env: Swimmer-v1\n"
     ]
    }
   ],
   "source": [
    "# dqn_hidden_spec = [\n",
    "#                 {'dim': 512,'activation': tf.nn.relu},\n",
    "#                 {'dim': 512,'activation': tf.nn.relu}\n",
    "#             ]\n",
    "# exp = experiment.Experiments(seed=0, env_name = 'Swimmer-v1', dqn_hidden_spec=dqn_hidden_spec, action_res=[31,31],\n",
    "#                                  batch_size = 100, learning_rate=1e-6,\n",
    "#                                  discount = 0.999, max_epi = 700, max_step = 400, target_update_period = 10,\n",
    "#                                  replay_memory_size = 1000000, eps_decay_rate=0.9999,\n",
    "#                                  scale=1., strategy=\"Sparsemax\")\n",
    "dqn_hidden_spec = [\n",
    "                {'dim': 256,'activation': tf.nn.relu},\n",
    "                {'dim': 256,'activation': tf.nn.relu},\n",
    "                {'dim': 256,'activation': tf.nn.relu},\n",
    "                {'dim': 256,'activation': tf.nn.relu}\n",
    "            ]\n",
    "exp = experiment.Experiments(seed=0, env_name = 'Swimmer-v1', dqn_hidden_spec=dqn_hidden_spec, action_res=[31,31],\n",
    "                                 batch_size = 100, learning_rate=1e-6,\n",
    "                                 discount = 0.999, max_epi = 700, max_step = 400, target_update_period = 10,\n",
    "                                 replay_memory_size = 1000000, eps_decay_rate=0.9999,\n",
    "                                 scale=1., strategy=\"Sparsemax\")"
   ]
  },
  {
   "cell_type": "code",
   "execution_count": null,
   "metadata": {},
   "outputs": [],
   "source": [
    "_, max_return = exp.run(display_period=100)"
   ]
  },
  {
   "cell_type": "code",
   "execution_count": null,
   "metadata": {},
   "outputs": [],
   "source": [
    "eval_list = exp.evaluation()"
   ]
  },
  {
   "cell_type": "code",
   "execution_count": null,
   "metadata": {},
   "outputs": [],
   "source": [
    "eval_list"
   ]
  }
 ],
 "metadata": {
  "kernelspec": {
   "display_name": "Python 2",
   "language": "python",
   "name": "python2"
  },
  "language_info": {
   "codemirror_mode": {
    "name": "ipython",
    "version": 2
   },
   "file_extension": ".py",
   "mimetype": "text/x-python",
   "name": "python",
   "nbconvert_exporter": "python",
   "pygments_lexer": "ipython2",
   "version": "2.7.12"
  }
 },
 "nbformat": 4,
 "nbformat_minor": 2
}
