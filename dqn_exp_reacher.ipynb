{
 "cells": [
  {
   "cell_type": "code",
   "execution_count": 1,
   "metadata": {},
   "outputs": [],
   "source": [
    "import experiment\n",
    "import tensorflow as tf"
   ]
  },
  {
   "cell_type": "code",
   "execution_count": null,
   "metadata": {},
   "outputs": [
    {
     "name": "stderr",
     "output_type": "stream",
     "text": [
      "[2017-11-28 00:30:04,890] Making new env: Reacher-v1\n"
     ]
    }
   ],
   "source": [
    "dqn_hidden_spec = [\n",
    "                {'dim': 256,'activation': tf.nn.relu},\n",
    "                {'dim': 256,'activation': tf.nn.relu},\n",
    "                {'dim': 256,'activation': tf.nn.relu},\n",
    "                {'dim': 256,'activation': tf.nn.relu}\n",
    "            ]\n",
    "exp = experiment.Experiments(env_name=\"Reacher-v1\",dqn_hidden_spec=dqn_hidden_spec,action_res=[31,31],\n",
    "                             max_epi=2000,max_step=50,discount = 0.99,\n",
    "                             batch_size=512,learning_rate=1e-4,target_update_period=25,\n",
    "                             replay_memory_size=50000,eps_decay_rate=0.995, strategy=\"Sparsemax\", scale=1.) #-6.9\n",
    "# exp = experiment.Experiments(env_name=\"Reacher-v1\",dqn_hidden_spec=dqn_hidden_spec,action_res=[31,31],\n",
    "#                              max_epi=1500,max_step=50,discount = 0.99,\n",
    "#                              batch_size=1024,learning_rate=1e-4,target_update_period=25,\n",
    "#                              replay_memory_size=50000,eps_decay_rate=0.995, strategy=\"Sparsemax\", scale=1.) #-9.4\n",
    "# exp = experiment.Experiments(env_name=\"Reacher-v1\",dqn_hidden_spec=dqn_hidden_spec,action_res=[31,31],\n",
    "#                              max_epi=2000,max_step=50,discount = 0.99,\n",
    "#                              batch_size=128,learning_rate=1e-4,target_update_period=25,\n",
    "#                              replay_memory_size=50000,eps_decay_rate=0.995, strategy=\"Sparsemax\", scale=1.) #-7.4\n",
    "# exp = experiment.Experiments(env_name=\"Reacher-v1\",dqn_hidden_spec=dqn_hidden_spec,action_res=[31,31],\n",
    "#                              max_epi=1500,max_step=50,discount = 0.99,\n",
    "#                              batch_size=128,learning_rate=1e-4,target_update_period=5,\n",
    "#                              replay_memory_size=50000,eps_decay_rate=0.99, strategy=\"Sparsemax\", scale=1e-1) -10.0\n",
    "# exp = experiment.Experiments(env_name=\"Reacher-v1\",dqn_hidden_spec=dqn_hidden_spec,action_res=[31,31],\n",
    "#                              max_epi=1500,max_step=50,discount = 0.99,\n",
    "#                              batch_size=128,learning_rate=1e-4,target_update_period=5,\n",
    "#                              replay_memory_size=50000,eps_decay_rate=0.99, strategy=\"Sparsemax\", scale=3.) -7.5"
   ]
  },
  {
   "cell_type": "code",
   "execution_count": null,
   "metadata": {},
   "outputs": [
    {
     "name": "stdout",
     "output_type": "stream",
     "text": [
      "[100/2000] Avg Return -27.1613351891, Max Return -27.1613351891, DQN Loss 0.000909008631879, Epsilon 0.02\n",
      "[200/2000] Avg Return -16.3698274905, Max Return -16.3698274905, DQN Loss 0.00154346949057, Epsilon 0.02\n"
     ]
    }
   ],
   "source": [
    "_, max_return = exp.run(display_period=100)"
   ]
  },
  {
   "cell_type": "code",
   "execution_count": null,
   "metadata": {},
   "outputs": [],
   "source": [
    "eval_list = exp.evaluation()"
   ]
  },
  {
   "cell_type": "code",
   "execution_count": null,
   "metadata": {},
   "outputs": [],
   "source": [
    "eval_list"
   ]
  }
 ],
 "metadata": {
  "kernelspec": {
   "display_name": "Python 2",
   "language": "python",
   "name": "python2"
  },
  "language_info": {
   "codemirror_mode": {
    "name": "ipython",
    "version": 2
   },
   "file_extension": ".py",
   "mimetype": "text/x-python",
   "name": "python",
   "nbconvert_exporter": "python",
   "pygments_lexer": "ipython2",
   "version": "2.7.12"
  }
 },
 "nbformat": 4,
 "nbformat_minor": 2
}
