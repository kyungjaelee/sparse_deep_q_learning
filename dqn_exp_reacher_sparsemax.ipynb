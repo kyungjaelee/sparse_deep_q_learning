{
 "cells": [
  {
   "cell_type": "code",
   "execution_count": null,
   "metadata": {},
   "outputs": [],
   "source": [
    "import os\n",
    "import scipy.io as scipyio\n",
    "import numpy as np\n",
    "from collections import defaultdict\n",
    "import experiment\n",
    "import tensorflow as tf"
   ]
  },
  {
   "cell_type": "code",
   "execution_count": null,
   "metadata": {},
   "outputs": [
    {
     "name": "stderr",
     "output_type": "stream",
     "text": [
      "[2017-11-22 21:05:29,951] Making new env: Reacher-v1\n"
     ]
    },
    {
     "name": "stdout",
     "output_type": "stream",
     "text": [
      "Problem: Reacher-v1, Action: 2601, Temp: 1, Strategy: Sparsemax, Backup: SoftBellman\n",
      "0/5 Experiment Start\n"
     ]
    }
   ],
   "source": [
    "strategies = [\"Sparsemax\",\"Sparsemax\",\"Sparsemax\"]\n",
    "backuprules = [\"SoftBellman\",\"SparseBellman\",\"Bellman\"]\n",
    "scales = [1, 0.1, 0.01]\n",
    "scales_name = [\"high\",\"mid\",\"low\"]\n",
    "\n",
    "action_res_list = [[51,51], [31,31], [11,11], [3,3]]\n",
    "action_res_name = [\"large\",\"midlarge\",\"midsmall\",\"small\"]\n",
    "\n",
    "env_name = \"Reacher-v1\"\n",
    "dqn_hidden_spec = [\n",
    "                {'dim': 512,'activation': tf.nn.tanh},\n",
    "                {'dim': 512,'activation': tf.nn.tanh}\n",
    "            ]\n",
    "\n",
    "n_exp = 5\n",
    "n_epi = 1500\n",
    "n_eval = 100\n",
    "\n",
    "data = defaultdict(lambda : defaultdict(lambda : defaultdict(lambda : defaultdict(lambda : None))))\n",
    "for action_res, action_name in zip(action_res_list,action_res_name):\n",
    "    for scale, scale_name in zip(scales, scales_name):\n",
    "        for strategy, backuprule in zip(strategies, backuprules):\n",
    "            print(\"Problem: {}, Action: {}, Temp: {}, Strategy: {}, Backup: {}\".format(env_name,np.prod(action_res),scale,strategy,backuprule))\n",
    "            return_list = np.zeros((n_exp,n_epi))\n",
    "            eval_list = np.zeros((n_exp,n_eval))\n",
    "            for i_exp in range(n_exp):\n",
    "                exp = experiment.Experiments(seed=i_exp, env_name = 'Reacher-v1', action_res=action_res,\n",
    "                                         dqn_hidden_spec=dqn_hidden_spec, batch_size = 512, learning_rate=1e-4,\n",
    "                                         discount = 0.99, max_epi = n_epi, max_step = 10, target_update_period = 25,\n",
    "                                         replay_memory_size = 50000, eps_decay_rate=0.999, \n",
    "                                         scale=scale, strategy=strategy, backuprule=backuprule)\n",
    "                print(\"{}/{} Experiment Start\".format(i_exp,n_exp))\n",
    "                return_list[i_exp,:] = exp.run(display_period=n_epi+1)\n",
    "                eval_list[i_exp,:] = exp.evaluation(max_eval_epi=n_eval)\n",
    "\n",
    "            data[action_name][scale_name][strategy][backuprule]  = {\"return_list\":return_list,\"eval_list\":eval_list}\n",
    "\n",
    "data_file_name = env_name+\"_sparsemax.mat\"\n",
    "scipyio.savemat(data_file_name, data)\n",
    "print(\"{} is finished and is saved\".format(data_file_name))"
   ]
  },
  {
   "cell_type": "code",
   "execution_count": null,
   "metadata": {},
   "outputs": [],
   "source": []
  }
 ],
 "metadata": {
  "kernelspec": {
   "display_name": "Python 2",
   "language": "python",
   "name": "python2"
  },
  "language_info": {
   "codemirror_mode": {
    "name": "ipython",
    "version": 2
   },
   "file_extension": ".py",
   "mimetype": "text/x-python",
   "name": "python",
   "nbconvert_exporter": "python",
   "pygments_lexer": "ipython2",
   "version": "2.7.12"
  }
 },
 "nbformat": 4,
 "nbformat_minor": 2
}
