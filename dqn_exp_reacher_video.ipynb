{
 "cells": [
  {
   "cell_type": "code",
   "execution_count": 1,
   "metadata": {},
   "outputs": [
    {
     "name": "stderr",
     "output_type": "stream",
     "text": [
      "/usr/local/lib/python2.7/dist-packages/h5py/__init__.py:36: FutureWarning: Conversion of the second argument of issubdtype from `float` to `np.floating` is deprecated. In future, it will be treated as `np.float64 == np.dtype(float).type`.\n",
      "  from ._conv import register_converters as _register_converters\n"
     ]
    }
   ],
   "source": [
    "import os\n",
    "import scipy.io as scipyio\n",
    "import numpy as np\n",
    "from collections import defaultdict\n",
    "import experiment\n",
    "import tensorflow as tf"
   ]
  },
  {
   "cell_type": "code",
   "execution_count": 2,
   "metadata": {},
   "outputs": [
    {
     "name": "stdout",
     "output_type": "stream",
     "text": [
      "[0/1] Problem: Reacher-v1, Strategy: Sparsemax, Backup: SparseBellman, Scale: 0.1\n"
     ]
    },
    {
     "name": "stderr",
     "output_type": "stream",
     "text": [
      "No handlers could be found for logger \"mujoco_py.mjviewer\"\n"
     ]
    },
    {
     "name": "stdout",
     "output_type": "stream",
     "text": [
      "Evaluation Result: -44.7038937566\n",
      "[0/1] Problem: Reacher-v1, Strategy: Sparsemax, Backup: Bellman, Scale: 0.1\n"
     ]
    },
    {
     "name": "stderr",
     "output_type": "stream",
     "text": [
      "Exception TypeError: '_type_ must have storage info' in <bound method TimeLimit.__del__ of <TimeLimit<ReacherEnv<Reacher-v1>>>> ignored\n",
      "Exception TypeError: '_type_ must have storage info' in <bound method ReacherEnv.__del__ of <gym.envs.mujoco.reacher.ReacherEnv object at 0x7f0af3034710>> ignored\n"
     ]
    },
    {
     "name": "stdout",
     "output_type": "stream",
     "text": [
      "Evaluation Result: -42.8124589463\n",
      "[0/1] Problem: Reacher-v1, Strategy: Sparsemax, Backup: SoftBellman, Scale: 0.1\n"
     ]
    },
    {
     "name": "stderr",
     "output_type": "stream",
     "text": [
      "Exception TypeError: '_type_ must have storage info' in <bound method TimeLimit.__del__ of <TimeLimit<ReacherEnv<Reacher-v1>>>> ignored\n",
      "Exception TypeError: '_type_ must have storage info' in <bound method ReacherEnv.__del__ of <gym.envs.mujoco.reacher.ReacherEnv object at 0x7f0aee113150>> ignored\n"
     ]
    },
    {
     "name": "stdout",
     "output_type": "stream",
     "text": [
      "Evaluation Result: -21.9116910628\n"
     ]
    }
   ],
   "source": [
    "strategies = [\"Sparsemax\",\"Sparsemax\",\"Sparsemax\"]\n",
    "backuprules = [\"SparseBellman\",\"Bellman\",\"SoftBellman\"]\n",
    "scales = [0.1,0.1,0.1]\n",
    "learning_rates = [1e-5,1e-4,1e-5]\n",
    "\n",
    "action_res = [51,51]\n",
    "\n",
    "env_name = \"Reacher-v1\"\n",
    "dqn_hidden_spec = [\n",
    "                {'dim': 256,'activation': tf.nn.relu},\n",
    "                {'dim': 256,'activation': tf.nn.relu},\n",
    "                {'dim': 256,'activation': tf.nn.relu},\n",
    "                {'dim': 256,'activation': tf.nn.relu}\n",
    "            ]\n",
    "\n",
    "n_exp = 1\n",
    "n_epi = 10\n",
    "n_eval = 10\n",
    "for i_exp in range(n_exp):\n",
    "    for strategy, backuprule, lr, scale in zip(strategies,backuprules,learning_rates,scales):\n",
    "        print(\"[{}/{}] Problem: {}, Strategy: {}, Backup: {}, Scale: {}\".format(i_exp, n_exp, env_name, strategy, backuprule, scale))\n",
    "\n",
    "        exp = experiment.Experiments(env_name=env_name,seed=i_exp,dqn_hidden_spec=dqn_hidden_spec,action_res=action_res,\n",
    "                                     max_epi=n_epi,max_step=50,discount = 0.99,\n",
    "                                     batch_size=128,learning_rate=lr,target_update_period=1,\n",
    "                                     replay_memory_size=50000,eps_decay_rate=0.99, \n",
    "                                       strategy=strategy,backuprule=backuprule, scale=scale)\n",
    "        return_list, max_return = exp.run(display_period=500)\n",
    "        eval_list = exp.evaluation(max_eval_epi=n_eval,video_record=True)"
   ]
  }
 ],
 "metadata": {
  "kernelspec": {
   "display_name": "Python 2",
   "language": "python",
   "name": "python2"
  },
  "language_info": {
   "codemirror_mode": {
    "name": "ipython",
    "version": 2
   },
   "file_extension": ".py",
   "mimetype": "text/x-python",
   "name": "python",
   "nbconvert_exporter": "python",
   "pygments_lexer": "ipython2",
   "version": "2.7.12"
  }
 },
 "nbformat": 4,
 "nbformat_minor": 2
}
