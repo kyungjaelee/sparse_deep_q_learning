{
 "cells": [
  {
   "cell_type": "code",
   "execution_count": 1,
   "metadata": {},
   "outputs": [],
   "source": [
    "import experiment\n",
    "import tensorflow as tf"
   ]
  },
  {
   "cell_type": "code",
   "execution_count": 2,
   "metadata": {},
   "outputs": [
    {
     "name": "stderr",
     "output_type": "stream",
     "text": [
      "[2017-11-27 18:58:32,994] Making new env: InvertedDoublePendulum-v1\n"
     ]
    }
   ],
   "source": [
    "dqn_hidden_spec = [\n",
    "                {'dim': 512,'activation': tf.nn.relu},\n",
    "                {'dim': 512,'activation': tf.nn.relu}\n",
    "            ]\n",
    "# exp = experiment.Experiments(env_name=\"InvertedDoublePendulum-v1\",dqn_hidden_spec=dqn_hidden_spec,action_res=2001,max_epi=1000,\n",
    "#                              max_step=2000,batch_size=512,learning_rate=1e-4,target_update_period=25,\n",
    "#                              replay_memory_size=1000000,eps_decay_rate=0.995, strategy=\"Sparsemax\", scale=5.)\n",
    "exp = experiment.Experiments(env_name=\"InvertedDoublePendulum-v1\",dqn_hidden_spec=dqn_hidden_spec,action_res=2001,\n",
    "                             max_epi=1000,max_step=10000,batch_size=500,learning_rate=1e-4,target_update_period=5,\n",
    "                             replay_memory_size=1000000,eps_decay_rate=0.995, strategy=\"Sparsemax\", scale=1.)"
   ]
  },
  {
   "cell_type": "code",
   "execution_count": 3,
   "metadata": {
    "scrolled": true
   },
   "outputs": [
    {
     "name": "stdout",
     "output_type": "stream",
     "text": [
      "[100/1000] Avg Return 49.2361038572, Max Return 49.2361038572, DQN Loss 0.193394184113, Epsilon 0.0654268370654\n",
      "[200/1000] Avg Return 40.8674608504, Max Return 49.2361038572, DQN Loss 7.79175138474, Epsilon 0.00668740560687\n",
      "[300/1000] Avg Return 74.7122126716, Max Return 74.7122126716, DQN Loss 3.63220760226, Epsilon 0.000111915838654\n",
      "[400/1000] Avg Return 114.535912154, Max Return 115.917465887, DQN Loss 1.38663391024, Epsilon 2.23620532954e-07\n",
      "[500/1000] Avg Return 137.692847596, Max Return 137.692847596, DQN Loss 2.57109529898, Epsilon 1.27615077725e-10\n",
      "[600/1000] Avg Return 185.540708716, Max Return 187.479213638, DQN Loss 1.10568279773, Epsilon 5.48279445962e-15\n",
      "[700/1000] Avg Return 210.708487234, Max Return 210.708487234, DQN Loss 1.59493161365, Epsilon 5.9652145089e-20\n",
      "[800/1000] Avg Return 354.744712672, Max Return 354.744712672, DQN Loss 2.82388589531, Epsilon 2.83964308138e-28\n",
      "[900/1000] Avg Return 444.589787941, Max Return 444.589787941, DQN Loss 11.9369923286, Epsilon 1.11022959944e-38\n",
      "[1000/1000] Avg Return 3646.32457469, Max Return 3646.32457469, DQN Loss 585.604422413, Epsilon 1.17908911571e-123\n"
     ]
    }
   ],
   "source": [
    "_, max_return = exp.run(display_period=100)"
   ]
  },
  {
   "cell_type": "code",
   "execution_count": 4,
   "metadata": {},
   "outputs": [
    {
     "name": "stdout",
     "output_type": "stream",
     "text": [
      "Evaluation Result: 9242.0022219\n"
     ]
    }
   ],
   "source": [
    "eval_list = exp.evaluation()"
   ]
  },
  {
   "cell_type": "code",
   "execution_count": 5,
   "metadata": {},
   "outputs": [
    {
     "data": {
      "text/plain": [
       "array([ 9342.97280534,  9343.18044724,  9343.51755485,  9343.75252425,\n",
       "        9338.68848851,  9343.5558809 ,  9344.18457072,  9342.75117173,\n",
       "        9345.04825707,  9344.70265426,  9340.29380374,  9337.66820764,\n",
       "        9344.00154877,  9345.09643485,  1108.83795873,  9342.47607087,\n",
       "        9342.35289443,  9335.6193734 ,  9344.15013606,  9341.16441836,\n",
       "        9341.1549414 ,  9342.85549056,  9340.40724608,  9343.35600879,\n",
       "        9340.75155199,  9343.25523544,  9342.84378991,  9341.16368229,\n",
       "        9338.64858664,  9343.05745497,  9339.14367917,  9343.98294171,\n",
       "        9340.44800476,  9341.28175688,  9343.1552753 ,  9342.80899032,\n",
       "        9345.01410397,  9343.60711556,  9338.99811464,  9343.53018066,\n",
       "        9343.3861356 ,  9344.48886565,  7560.13724929,  9343.98484341,\n",
       "        9343.70315479,  9343.49682499,  9345.15881147,  9342.38754906,\n",
       "        9343.75015119,  9341.97000926,  9341.63830261,  9344.80561434,\n",
       "        9341.61029683,  9337.64953565,  9342.12219853,  9341.18272142,\n",
       "        9342.03477149,  9341.87634563,  9341.97750071,  9344.45419606,\n",
       "        9342.00664706,  9346.1453589 ,  9343.38579151,  9345.00694365,\n",
       "        9335.74253115,  9338.57961352,  9341.00383808,  9344.3633117 ,\n",
       "        9344.42737821,  9338.94144989,  9342.69616447,  9343.81483308,\n",
       "        9345.38608788,  9340.1843884 ,  9342.10451575,  9340.9976281 ,\n",
       "        9342.12928324,  9343.0790059 ,  9343.72263904,  9344.51937311,\n",
       "        9341.38540297,  9343.9907308 ,  9344.15864546,  9344.53702719,\n",
       "        9337.63398833,  9342.19783781,  9341.29500735,  9339.3295026 ,\n",
       "        9345.12005682,  9337.74873257,  9341.11448624,  9340.1175312 ,\n",
       "        9342.78655139,  9338.50815314,  9343.0343173 ,  9338.13411549,\n",
       "        9343.28313371,  9336.84312811,  9344.2729933 ,  9341.19963476])"
      ]
     },
     "execution_count": 5,
     "metadata": {},
     "output_type": "execute_result"
    }
   ],
   "source": [
    "eval_list"
   ]
  }
 ],
 "metadata": {
  "kernelspec": {
   "display_name": "Python 2",
   "language": "python",
   "name": "python2"
  },
  "language_info": {
   "codemirror_mode": {
    "name": "ipython",
    "version": 2
   },
   "file_extension": ".py",
   "mimetype": "text/x-python",
   "name": "python",
   "nbconvert_exporter": "python",
   "pygments_lexer": "ipython2",
   "version": "2.7.12"
  }
 },
 "nbformat": 4,
 "nbformat_minor": 2
}
