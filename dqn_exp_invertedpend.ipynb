{
 "cells": [
  {
   "cell_type": "code",
   "execution_count": 1,
   "metadata": {},
   "outputs": [],
   "source": [
    "import experiment\n",
    "import tensorflow as tf"
   ]
  },
  {
   "cell_type": "code",
   "execution_count": null,
   "metadata": {},
   "outputs": [
    {
     "name": "stderr",
     "output_type": "stream",
     "text": [
      "[2017-11-28 00:33:31,973] Making new env: InvertedPendulum-v1\n"
     ]
    }
   ],
   "source": [
    "# dqn_hidden_spec = [\n",
    "#                 {'dim': 512,'activation': tf.nn.relu},\n",
    "#                 {'dim': 512,'activation': tf.nn.relu}\n",
    "#             ]\n",
    "# exp = experiment.Experiments(env_name=\"InvertedPendulum-v1\",dqn_hidden_spec=dqn_hidden_spec,action_res=2001,max_epi=1000,\n",
    "#                              max_step=1000,batch_size=512,learning_rate=1e-4,target_update_period=25,\n",
    "#                              replay_memory_size=1000000,eps_decay_rate=0.995, strategy=\"Sparsemax\", scale=1.)\n",
    "# dqn_hidden_spec = [\n",
    "#                 {'dim': 256,'activation': tf.nn.relu},\n",
    "#                 {'dim': 256,'activation': tf.nn.relu},\n",
    "#                 {'dim': 256,'activation': tf.nn.relu},\n",
    "#                 {'dim': 256,'activation': tf.nn.relu}\n",
    "#             ]\n",
    "# exp = experiment.Experiments(env_name=\"InvertedPendulum-v1\",dqn_hidden_spec=dqn_hidden_spec,action_res=2001,max_epi=1000,\n",
    "#                              max_step=1000,batch_size=128,learning_rate=1e-4,target_update_period=5,\n",
    "#                              replay_memory_size=1000000,eps_decay_rate=0.995, strategy=\"Sparsemax\", scale=1.)\n",
    "dqn_hidden_spec = [\n",
    "                {'dim': 128,'activation': tf.nn.relu},\n",
    "                {'dim': 128,'activation': tf.nn.relu}\n",
    "            ]\n",
    "exp = experiment.Experiments(env_name=\"InvertedPendulum-v1\",dqn_hidden_spec=dqn_hidden_spec,action_res=2001,max_epi=1000,\n",
    "                             max_step=1000,batch_size=128,learning_rate=5e-4,target_update_period=5,\n",
    "                             replay_memory_size=1000000,eps_decay_rate=0.995, strategy=\"Sparsemax\", scale=1.)"
   ]
  },
  {
   "cell_type": "code",
   "execution_count": null,
   "metadata": {
    "scrolled": false
   },
   "outputs": [
    {
     "name": "stdout",
     "output_type": "stream",
     "text": [
      "[100/1000] Avg Return 4.68, Max Return 4.68, DQN Loss 5.01311433315, Epsilon 0.0957638921786\n",
      "[200/1000] Avg Return 4.29, Max Return 4.74, DQN Loss 18.3757805824, Epsilon 0.0111507333078\n",
      "[300/1000] Avg Return 5.41, Max Return 5.41, DQN Loss 0.919112227857, Epsilon 0.000740610921878\n"
     ]
    }
   ],
   "source": [
    "_, max_return = exp.run(display_period=100)"
   ]
  },
  {
   "cell_type": "code",
   "execution_count": null,
   "metadata": {},
   "outputs": [],
   "source": [
    "eval_list = exp.evaluation()"
   ]
  },
  {
   "cell_type": "code",
   "execution_count": null,
   "metadata": {},
   "outputs": [],
   "source": [
    "eval_list"
   ]
  }
 ],
 "metadata": {
  "kernelspec": {
   "display_name": "Python 2",
   "language": "python",
   "name": "python2"
  },
  "language_info": {
   "codemirror_mode": {
    "name": "ipython",
    "version": 2
   },
   "file_extension": ".py",
   "mimetype": "text/x-python",
   "name": "python",
   "nbconvert_exporter": "python",
   "pygments_lexer": "ipython2",
   "version": "2.7.12"
  }
 },
 "nbformat": 4,
 "nbformat_minor": 2
}
