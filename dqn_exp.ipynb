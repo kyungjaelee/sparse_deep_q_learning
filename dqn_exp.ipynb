{
 "cells": [
  {
   "cell_type": "code",
   "execution_count": 1,
   "metadata": {},
   "outputs": [],
   "source": [
    "import experiment"
   ]
  },
  {
   "cell_type": "code",
   "execution_count": 2,
   "metadata": {},
   "outputs": [
    {
     "name": "stderr",
     "output_type": "stream",
     "text": [
      "[2017-11-22 19:49:51,552] Making new env: Reacher-v1\n"
     ]
    }
   ],
   "source": [
    "exp = experiment.Experiments(env_name=\"Reacher-v1\",action_res=[11,11],max_epi=100,max_step=10,\n",
    "                             batch_size=1024,learning_rate=1e-4,target_update_period=25,\n",
    "                             replay_memory_size=1000000,eps_decay_rate=0.999, strategy=\"Sparsemax\", scale=1e-1)"
   ]
  },
  {
   "cell_type": "code",
   "execution_count": 3,
   "metadata": {},
   "outputs": [
    {
     "name": "stdout",
     "output_type": "stream",
     "text": [
      "[20/100] Avg Total Reward -10.3538423226, DQN Loss 0, Epsilon 0.818648829479\n",
      "[40/100] Avg Total Reward -9.98223262382, DQN Loss 0, Epsilon 0.670185906007\n",
      "[60/100] Avg Total Reward -11.0542838493, DQN Loss 0, Epsilon 0.548646907485\n",
      "[80/100] Avg Total Reward -10.1792707347, DQN Loss 0, Epsilon 0.44914914861\n",
      "[100/100] Avg Total Reward -10.1735313307, DQN Loss 0, Epsilon 0.367695424771\n"
     ]
    },
    {
     "data": {
      "text/plain": [
       "array([-10.63838955, -10.38938631,  -7.52143478,  -8.7377799 ,\n",
       "        -6.30574023, -12.08078923, -11.54310397,  -9.75417456,\n",
       "       -10.31253919, -11.57596146, -11.71832038, -10.14496027,\n",
       "        -8.04938184,  -9.36113902, -12.67551819, -12.81216839,\n",
       "       -12.27824446, -11.40032506, -10.1821879 ,  -9.59530177,\n",
       "       -11.03621947,  -7.39407113,  -9.12120414, -10.51846028,\n",
       "       -10.38926603, -10.33024592, -11.75236449, -11.40619228,\n",
       "        -8.8583948 ,  -9.72738906, -11.9141737 ,  -7.66296052,\n",
       "       -13.7103262 , -11.45882565,  -8.18440517,  -6.81281192,\n",
       "        -9.76296438, -10.12392763, -10.39095051,  -9.08949918,\n",
       "       -10.59803283, -10.77190947, -13.36927347, -11.41429155,\n",
       "       -13.9031818 , -12.41320164,  -9.26280713, -12.16890571,\n",
       "        -8.00187282, -10.5109561 ,  -7.70658984, -12.27188938,\n",
       "       -10.75899307, -10.43159039,  -9.3928598 , -11.11914347,\n",
       "       -10.58294305, -10.33491546, -14.64661995, -11.42570005,\n",
       "        -7.46264342, -11.56830032, -13.46145012,  -7.49029703,\n",
       "       -12.09544814,  -8.88963805, -10.37459473,  -7.7875764 ,\n",
       "       -11.4098547 ,  -7.78126045, -12.14166048, -10.04598216,\n",
       "       -10.65762756,  -9.99366331, -12.54163832, -10.41873801,\n",
       "       -11.32919312,  -8.81096193, -10.68231524,  -8.64257119,\n",
       "       -11.00292585,  -9.19286885, -12.82981466,  -9.59322739,\n",
       "        -6.30931684, -10.04340313, -12.19083799,  -9.5339224 ,\n",
       "        -7.93352619,  -9.17034703,  -8.85114183, -11.00200163,\n",
       "       -11.14296325,  -8.85106315, -13.20161137, -11.22476378,\n",
       "       -11.50180428,  -9.97638939,  -9.72604851, -10.19264909])"
      ]
     },
     "execution_count": 3,
     "metadata": {},
     "output_type": "execute_result"
    }
   ],
   "source": [
    "exp.run(display_period=20)"
   ]
  },
  {
   "cell_type": "code",
   "execution_count": 4,
   "metadata": {},
   "outputs": [
    {
     "name": "stdout",
     "output_type": "stream",
     "text": [
      "Evaluation Result: -51.9687237351\n"
     ]
    }
   ],
   "source": [
    "eval_list = exp.evaluation()"
   ]
  },
  {
   "cell_type": "code",
   "execution_count": null,
   "metadata": {},
   "outputs": [],
   "source": []
  }
 ],
 "metadata": {
  "kernelspec": {
   "display_name": "Python 2",
   "language": "python",
   "name": "python2"
  },
  "language_info": {
   "codemirror_mode": {
    "name": "ipython",
    "version": 2
   },
   "file_extension": ".py",
   "mimetype": "text/x-python",
   "name": "python",
   "nbconvert_exporter": "python",
   "pygments_lexer": "ipython2",
   "version": "2.7.12"
  }
 },
 "nbformat": 4,
 "nbformat_minor": 2
}
