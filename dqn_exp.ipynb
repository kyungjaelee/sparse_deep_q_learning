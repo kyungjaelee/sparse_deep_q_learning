{
 "cells": [
  {
   "cell_type": "code",
   "execution_count": 10,
   "metadata": {},
   "outputs": [],
   "source": [
    "import experiment"
   ]
  },
  {
   "cell_type": "code",
   "execution_count": 11,
   "metadata": {},
   "outputs": [
    {
     "name": "stderr",
     "output_type": "stream",
     "text": [
      "[2017-11-22 19:24:35,482] Making new env: Walker2d-v1\n"
     ]
    }
   ],
   "source": [
    "exp = experiment.Experiments(env_name=\"Walker2d-v1\",action_res=[3,3,3,3,3,3],max_epi=500,max_step=1500,\n",
    "                             batch_size=512,learning_rate=1e-4,target_update_period=25,\n",
    "                             replay_memory_size=1000000,eps_decay_rate=0.999)"
   ]
  },
  {
   "cell_type": "code",
   "execution_count": null,
   "metadata": {},
   "outputs": [
    {
     "name": "stdout",
     "output_type": "stream",
     "text": [
      "[50/500] Avg Total Reward 1.07502868772, DQN Loss 0.00439876702148, Epsilon 0.369539430221\n",
      "[100/500] Avg Total Reward 25.7094610944, DQN Loss 0.124741476262, Epsilon 0.0317861490082\n"
     ]
    }
   ],
   "source": [
    "exp.run(display_period=50)"
   ]
  },
  {
   "cell_type": "code",
   "execution_count": null,
   "metadata": {},
   "outputs": [],
   "source": []
  }
 ],
 "metadata": {
  "kernelspec": {
   "display_name": "Python 2",
   "language": "python",
   "name": "python2"
  },
  "language_info": {
   "codemirror_mode": {
    "name": "ipython",
    "version": 2
   },
   "file_extension": ".py",
   "mimetype": "text/x-python",
   "name": "python",
   "nbconvert_exporter": "python",
   "pygments_lexer": "ipython2",
   "version": "2.7.12"
  }
 },
 "nbformat": 4,
 "nbformat_minor": 2
}
